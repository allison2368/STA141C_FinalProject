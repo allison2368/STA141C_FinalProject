{
 "cells": [
  {
   "cell_type": "code",
   "execution_count": 6,
   "metadata": {},
   "outputs": [
    {
     "name": "stdout",
     "output_type": "stream",
     "text": [
      "   itching  skin_rash  nodal_skin_eruptions  continuous_sneezing  shivering  \\\n",
      "0        1          1                     1                    0          0   \n",
      "1        0          1                     1                    0          0   \n",
      "2        1          0                     1                    0          0   \n",
      "3        1          1                     0                    0          0   \n",
      "4        1          1                     1                    0          0   \n",
      "\n",
      "   chills  joint_pain  stomach_pain  acidity  ulcers_on_tongue  ...  scurring  \\\n",
      "0       0           0             0        0                 0  ...         0   \n",
      "1       0           0             0        0                 0  ...         0   \n",
      "2       0           0             0        0                 0  ...         0   \n",
      "3       0           0             0        0                 0  ...         0   \n",
      "4       0           0             0        0                 0  ...         0   \n",
      "\n",
      "   skin_peeling  silver_like_dusting  small_dents_in_nails  \\\n",
      "0             0                    0                     0   \n",
      "1             0                    0                     0   \n",
      "2             0                    0                     0   \n",
      "3             0                    0                     0   \n",
      "4             0                    0                     0   \n",
      "\n",
      "   inflammatory_nails  blister  red_sore_around_nose  yellow_crust_ooze  \\\n",
      "0                   0        0                     0                  0   \n",
      "1                   0        0                     0                  0   \n",
      "2                   0        0                     0                  0   \n",
      "3                   0        0                     0                  0   \n",
      "4                   0        0                     0                  0   \n",
      "\n",
      "          prognosis  Unnamed: 133  \n",
      "0  Fungal infection           NaN  \n",
      "1  Fungal infection           NaN  \n",
      "2  Fungal infection           NaN  \n",
      "3  Fungal infection           NaN  \n",
      "4  Fungal infection           NaN  \n",
      "\n",
      "[5 rows x 134 columns]\n",
      "Number of symptoms: 133\n"
     ]
    }
   ],
   "source": [
    "import pandas as pd\n",
    "import requests\n",
    "import io\n",
    "    \n",
    "# Downloading the csv file from your GitHub account\n",
    "\n",
    "url = \"https://raw.githubusercontent.com/allison2368/STA141C_FinalProject/main/Training.csv\" # Make sure the url is the raw version of the file on GitHub\n",
    "download = requests.get(url).content\n",
    "\n",
    "# Reading the downloaded content and turning it into a pandas dataframe\n",
    "\n",
    "df = pd.read_csv(io.StringIO(download.decode('utf-8')))\n",
    "\n",
    "# Printing out the first 5 rows of the dataframe\n",
    "\n",
    "print (df.head())\n",
    "\n",
    "# how many symptoms? \n",
    "# Extract symptoms columns\n",
    "symptoms = df.drop(columns=['prognosis'])\n",
    "\n",
    "# Count the number of symptoms\n",
    "num_symptoms = len(symptoms.columns)\n",
    "\n",
    "print(\"Number of symptoms:\", num_symptoms)"
   ]
  },
  {
   "cell_type": "markdown",
   "metadata": {},
   "source": [
    "We will now conduct exploratory data analysis to see what the data looks like "
   ]
  },
  {
   "cell_type": "code",
   "execution_count": 4,
   "metadata": {},
   "outputs": [
    {
     "name": "stdout",
     "output_type": "stream",
     "text": [
      "           itching    skin_rash  nodal_skin_eruptions  continuous_sneezing  \\\n",
      "count  4920.000000  4920.000000           4920.000000          4920.000000   \n",
      "mean      0.137805     0.159756              0.021951             0.045122   \n",
      "std       0.344730     0.366417              0.146539             0.207593   \n",
      "min       0.000000     0.000000              0.000000             0.000000   \n",
      "25%       0.000000     0.000000              0.000000             0.000000   \n",
      "50%       0.000000     0.000000              0.000000             0.000000   \n",
      "75%       0.000000     0.000000              0.000000             0.000000   \n",
      "max       1.000000     1.000000              1.000000             1.000000   \n",
      "\n",
      "         shivering       chills   joint_pain  stomach_pain      acidity  \\\n",
      "count  4920.000000  4920.000000  4920.000000   4920.000000  4920.000000   \n",
      "mean      0.021951     0.162195     0.139024      0.045122     0.045122   \n",
      "std       0.146539     0.368667     0.346007      0.207593     0.207593   \n",
      "min       0.000000     0.000000     0.000000      0.000000     0.000000   \n",
      "25%       0.000000     0.000000     0.000000      0.000000     0.000000   \n",
      "50%       0.000000     0.000000     0.000000      0.000000     0.000000   \n",
      "75%       0.000000     0.000000     0.000000      0.000000     0.000000   \n",
      "max       1.000000     1.000000     1.000000      1.000000     1.000000   \n",
      "\n",
      "       ulcers_on_tongue  ...   blackheads     scurring  skin_peeling  \\\n",
      "count       4920.000000  ...  4920.000000  4920.000000   4920.000000   \n",
      "mean           0.021951  ...     0.021951     0.021951      0.023171   \n",
      "std            0.146539  ...     0.146539     0.146539      0.150461   \n",
      "min            0.000000  ...     0.000000     0.000000      0.000000   \n",
      "25%            0.000000  ...     0.000000     0.000000      0.000000   \n",
      "50%            0.000000  ...     0.000000     0.000000      0.000000   \n",
      "75%            0.000000  ...     0.000000     0.000000      0.000000   \n",
      "max            1.000000  ...     1.000000     1.000000      1.000000   \n",
      "\n",
      "       silver_like_dusting  small_dents_in_nails  inflammatory_nails  \\\n",
      "count          4920.000000           4920.000000         4920.000000   \n",
      "mean              0.023171              0.023171            0.023171   \n",
      "std               0.150461              0.150461            0.150461   \n",
      "min               0.000000              0.000000            0.000000   \n",
      "25%               0.000000              0.000000            0.000000   \n",
      "50%               0.000000              0.000000            0.000000   \n",
      "75%               0.000000              0.000000            0.000000   \n",
      "max               1.000000              1.000000            1.000000   \n",
      "\n",
      "           blister  red_sore_around_nose  yellow_crust_ooze  Unnamed: 133  \n",
      "count  4920.000000           4920.000000        4920.000000           0.0  \n",
      "mean      0.023171              0.023171           0.023171           NaN  \n",
      "std       0.150461              0.150461           0.150461           NaN  \n",
      "min       0.000000              0.000000           0.000000           NaN  \n",
      "25%       0.000000              0.000000           0.000000           NaN  \n",
      "50%       0.000000              0.000000           0.000000           NaN  \n",
      "75%       0.000000              0.000000           0.000000           NaN  \n",
      "max       1.000000              1.000000           1.000000           NaN  \n",
      "\n",
      "[8 rows x 133 columns]\n"
     ]
    }
   ],
   "source": [
    "# Extract symptoms columns\n",
    "symptoms = df.drop(columns=['prognosis'])\n",
    "\n",
    "# Calculate the statistical summary for each symptom\n",
    "symptoms_summary = symptoms.describe()\n",
    "\n",
    "# Print the statistical summary for each symptom\n",
    "print(symptoms_summary)"
   ]
  },
  {
   "cell_type": "code",
   "execution_count": 5,
   "metadata": {},
   "outputs": [
    {
     "name": "stdout",
     "output_type": "stream",
     "text": [
      "                      Count_of_1s  Count_of_0s  Proportion_of_1s\n",
      "itching                     678.0       4242.0          0.137805\n",
      "skin_rash                   786.0       4134.0          0.159756\n",
      "nodal_skin_eruptions        108.0       4812.0          0.021951\n",
      "continuous_sneezing         222.0       4698.0          0.045122\n",
      "shivering                   108.0       4812.0          0.021951\n",
      "...                           ...          ...               ...\n",
      "inflammatory_nails          114.0       4806.0          0.023171\n",
      "blister                     114.0       4806.0          0.023171\n",
      "red_sore_around_nose        114.0       4806.0          0.023171\n",
      "yellow_crust_ooze           114.0       4806.0          0.023171\n",
      "Unnamed: 133                  0.0       4920.0          0.000000\n",
      "\n",
      "[133 rows x 3 columns]\n"
     ]
    }
   ],
   "source": [
    "# since the data is binary coded, we will look at a summary that is more appropriate for binary data\n",
    "# Extract symptoms columns\n",
    "symptoms = df.drop(columns=['prognosis'])\n",
    "\n",
    "# Calculate count of 1s and 0s for each symptom\n",
    "symptom_counts = symptoms.sum()  # Sum across rows to count occurrences of 1s (presence)\n",
    "\n",
    "# Calculate proportion of 1s for each symptom\n",
    "symptom_proportions = symptom_counts / len(symptoms)\n",
    "\n",
    "# Create a DataFrame to display the summary\n",
    "summary_df = pd.DataFrame({\n",
    "    'Count_of_1s': symptom_counts,\n",
    "    'Count_of_0s': len(symptoms) - symptom_counts,\n",
    "    'Proportion_of_1s': symptom_proportions\n",
    "})\n",
    "\n",
    "# Print the summary\n",
    "print(summary_df)"
   ]
  }
 ],
 "metadata": {
  "kernelspec": {
   "display_name": "Python 3",
   "language": "python",
   "name": "python3"
  },
  "language_info": {
   "codemirror_mode": {
    "name": "ipython",
    "version": 3
   },
   "file_extension": ".py",
   "mimetype": "text/x-python",
   "name": "python",
   "nbconvert_exporter": "python",
   "pygments_lexer": "ipython3",
   "version": "3.11.1"
  }
 },
 "nbformat": 4,
 "nbformat_minor": 2
}
